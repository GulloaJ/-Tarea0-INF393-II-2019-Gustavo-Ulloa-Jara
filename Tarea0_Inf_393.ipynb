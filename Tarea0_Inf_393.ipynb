{
  "nbformat": 4,
  "nbformat_minor": 0,
  "metadata": {
    "colab": {
      "name": "Tarea0 Inf-393 ",
      "version": "0.3.2",
      "provenance": [],
      "collapsed_sections": []
    },
    "kernelspec": {
      "name": "python3",
      "display_name": "Python 3"
    },
    "accelerator": "GPU"
  },
  "cells": [
    {
      "cell_type": "code",
      "metadata": {
        "id": "RJsG-lsKmmXV",
        "colab_type": "code",
        "colab": {}
      },
      "source": [
        "from sklearn.datasets import load_breast_cancer\n",
        "import matplotlib.pyplot as plt\n",
        "import pandas as pd\n",
        "import numpy as np\n",
        "\n",
        "#data, output = load_breast_cancer(return_X_y = True)\n",
        "data = load_breast_cancer()\n",
        "\n",
        "x_train = data['data']\n",
        "y_train = data['target']"
      ],
      "execution_count": 0,
      "outputs": []
    },
    {
      "cell_type": "markdown",
      "metadata": {
        "id": "zpmAr2vQGLtY",
        "colab_type": "text"
      },
      "source": [
        "Luego de abrir el conjunto de datos, se procede a realizar un pequeño estudio de ellos y a tratarlos para un posterior uso de ellos en el entrenamiento de distintos modelos. \n",
        "\n",
        "Lo primero que hay que notar es que poseemos 569 datos a partir de 30 parámetros distintos. En base a ello, sería bueno buscar alguna manera de reducir dicha cantidad de parámetros con el objetivo de disminuir el 'ruido' que ellos pueden provocar a la máquina al momento de predecir. Pero como el objetivo es familiarizarse con los algoritmos, dejaremos dicho proceso para futuras tareas.\n",
        "\n",
        "Si bien lo anteriormente dicho se omitió, lo que sí vale la pena notar es que los datos de salida tienen una tendencia mayor a la salida 1 que la salida 0, por lo tanto, al momento de entrenar el modelo, es tentador pensar que él se va a 'familiarizar' más con las salidas 1. Esto será expuesto más adelante con el accuracy del modelo."
      ]
    },
    {
      "cell_type": "code",
      "metadata": {
        "id": "Aj46LLwuITu5",
        "colab_type": "code",
        "colab": {
          "base_uri": "https://localhost:8080/",
          "height": 35
        },
        "outputId": "b0fca062-d91a-4d43-a38b-dd97c15ffe8a"
      },
      "source": [
        "x_train.shape"
      ],
      "execution_count": 162,
      "outputs": [
        {
          "output_type": "execute_result",
          "data": {
            "text/plain": [
              "(569, 30)"
            ]
          },
          "metadata": {
            "tags": []
          },
          "execution_count": 162
        }
      ]
    },
    {
      "cell_type": "code",
      "metadata": {
        "id": "2dmgK9wzGbEg",
        "colab_type": "code",
        "colab": {
          "base_uri": "https://localhost:8080/",
          "height": 287
        },
        "outputId": "0425998b-64d1-44ee-9fc9-8f7daf4fd518"
      },
      "source": [
        "plt.hist(y_train)\n",
        "plt.annotate('357' , xy = (0.9,357), xytext = (0.7, 300), arrowprops=dict(facecolor='black', shrink=0.005))\n",
        "plt.annotate('212', xy=(0.1, 212), xytext = (0.2, 212), arrowprops=dict(facecolor='black', shrink=0.05))"
      ],
      "execution_count": 163,
      "outputs": [
        {
          "output_type": "execute_result",
          "data": {
            "text/plain": [
              "Text(0.2, 212, '212')"
            ]
          },
          "metadata": {
            "tags": []
          },
          "execution_count": 163
        },
        {
          "output_type": "display_data",
          "data": {
            "image/png": "[encoded data removed]",
            "text/plain": [
              "<Figure size 432x288 with 1 Axes>"
            ]
          },
          "metadata": {
            "tags": []
          }
        }
      ]
    },
    {
      "cell_type": "code",
      "metadata": {
        "id": "9CnMkGlmQAMr",
        "colab_type": "code",
        "colab": {}
      },
      "source": [
        "from sklearn.preprocessing import StandardScaler\n",
        "from sklearn.metrics import accuracy_score\n",
        "from sklearn.model_selection import train_test_split\n",
        "\n",
        "dummy_list = []\n",
        "aux = list(x_train)\n",
        "for k in range(x_train.shape[0]):\n",
        "  aux1= list(aux[k])\n",
        "  dummy_list = dummy_list + [1] + aux1\n",
        "eso = np.array(dummy_list)\n",
        "x_train = eso.reshape(x_train.shape[0],31)\n",
        "\n",
        "x_train, x_test, y_train, y_test = train_test_split(x_train, y_train, test_size = 0.1, stratify = y_train)\n",
        "\n",
        "scaler = StandardScaler()\n",
        "scaler.fit(x_train)\n",
        "x_train = scaler.transform(x_train)\n",
        "x_test = scaler.transform(x_test)\n",
        "\n"
      ],
      "execution_count": 0,
      "outputs": []
    },
    {
      "cell_type": "markdown",
      "metadata": {
        "id": "qQNTazXyJAIZ",
        "colab_type": "text"
      },
      "source": [
        "Decidimos añadir el *bias* al vector para simplificar las operaciones matriciales.\n",
        "Una vez realizado lo anterior, procedemos a escalar los datos debido a que las unidades y medidas de ellos diferían demasiado, lo que puede alterar los resultados al momento de entrenar la máquina.\n",
        "\n",
        "Por último, se decidió **dividir** los datos para tener una mejor precisión al momento de medir el *accuracy* de los modelos, utilizando un 10% en datos de testeo.\n",
        "\n",
        "En lo que sigue, definimos la función *perceptrón* y, posterior a ello, aplicamos el algoritmo de entrenamiento a los datos escalados.\n",
        "\n",
        "\n",
        "Para cada modelo se eligió el vector de unos de tal manera que todos los modelos tengan el mismo punto de partida. La discución de cada modelos se hará al final de la tarea con el objetivo de poder compararlos."
      ]
    },
    {
      "cell_type": "markdown",
      "metadata": {
        "id": "bvQsdjDrJySP",
        "colab_type": "text"
      },
      "source": [
        "#PERCEPTRÓN"
      ]
    },
    {
      "cell_type": "code",
      "metadata": {
        "id": "0hmn3FQXo1Bz",
        "colab_type": "code",
        "colab": {}
      },
      "source": [
        "#Definiendo el perceptrón\n",
        "import time\n",
        "\n",
        "\n",
        "def perceptron(X,w):\n",
        "  aux = np.inner(X,w)\n",
        "  b= aux >0\n",
        "  y = b*1\n",
        "  return(y)\n"
      ],
      "execution_count": 0,
      "outputs": []
    },
    {
      "cell_type": "code",
      "metadata": {
        "id": "nmrmQHF9oku5",
        "colab_type": "code",
        "outputId": "1700f1b0-b04e-4263-a5cc-77d857898707",
        "colab": {
          "base_uri": "https://localhost:8080/",
          "height": 531
        }
      },
      "source": [
        "#Entrenando el perceptrón\n",
        "\n",
        "w_ini = np.ones(31)\n",
        "alpha = 0.001\n",
        "iteraciones = 100\n",
        "error = []\n",
        "\n",
        "for i in range(iteraciones):\n",
        "  error = error + [sum(abs(perceptron(x_train, w_ini)-y_train))]\n",
        "  for k in range(x_train.shape[0]):\n",
        "    if (perceptron(x_train[k],w_ini) == 0) & (y_train[k]==1):\n",
        "      w_ini = w_ini + alpha*x_train[k]\n",
        "    if (perceptron(x_train[k],w_ini)== 1) & (y_train[k]==0):\n",
        "      w_ini = w_ini - alpha*x_train[k]\n",
        "\n",
        "plt.figure(figsize = (8,8))\n",
        "plt.subplot(2,1,1)\n",
        "plt.plot(error, 'bx')\n",
        "plt.xlabel('epochs')\n",
        "plt.ylabel('Error')\n",
        "plt.title('Comportamiento del error')\n",
        "\n",
        "\n",
        "plt.subplot(2,1,2)\n",
        "plt.plot(error[3:], 'bx')\n",
        "plt.xlabel('epochs')\n",
        "plt.ylabel('Error')\n",
        "plt.title('Comportamiento del error aumentado')\n",
        "\n",
        "pred = perceptron(x_test, w_ini)\n",
        "dic = { 'pred': pred, 'real': y_test}\n",
        "\n",
        "np.nonzero(pred - y_test)\n",
        "\n",
        "y_pred = perceptron(x_test,w_ini)\n",
        "print(accuracy_score(y_pred,y_test))"
      ],
      "execution_count": 166,
      "outputs": [
        {
          "output_type": "stream",
          "text": [
            "0.9649122807017544\n"
          ],
          "name": "stdout"
        },
        {
          "output_type": "display_data",
          "data": {
            "image/png": "[encoded data removed]",
            "text/plain": [
              "<Figure size 576x576 with 2 Axes>"
            ]
          },
          "metadata": {
            "tags": []
          }
        }
      ]
    },
    {
      "cell_type": "markdown",
      "metadata": {
        "id": "TR9_uHeUJ0CT",
        "colab_type": "text"
      },
      "source": [
        "#FORGETRÓN"
      ]
    },
    {
      "cell_type": "code",
      "metadata": {
        "id": "yA0t6f5aswSu",
        "colab_type": "code",
        "colab": {}
      },
      "source": [
        "#Forgetron\n",
        "\n",
        "def forgetron(x,w,y):\n",
        "      "
      ],
      "execution_count": 0,
      "outputs": []
    },
    {
      "cell_type": "markdown",
      "metadata": {
        "id": "MD5rMcMFItJb",
        "colab_type": "text"
      },
      "source": [
        "#Parte continua"
      ]
    },
    {
      "cell_type": "code",
      "metadata": {
        "id": "NzMi9RPKbeUt",
        "colab_type": "code",
        "colab": {}
      },
      "source": [
        "def sigmoid(x):\n",
        "  return(1/(1+np.exp(-x)))\n",
        "\n",
        "def loss(x,y):\n",
        "  return(-y*np.log(x) - (1-y)*np.log(1-x))\n",
        "\n",
        "def gradiente(x,w,y):\n",
        "  return ((sigmoid(np.inner(x,w))-y)*x)"
      ],
      "execution_count": 0,
      "outputs": []
    },
    {
      "cell_type": "code",
      "metadata": {
        "id": "0qCD8ynII0hj",
        "colab_type": "code",
        "colab": {}
      },
      "source": [
        "#el objetvio es minimizar la función loss, por lo tanto para entrenar el modelo debemos ir actualizando los pesos.\n",
        "\n",
        "alpha = 0.001\n",
        "w_ini = np.ones(31)\n",
        "cont =0\n",
        "\n",
        "iteraciones = 25\n",
        "\n",
        "def sig_training(xb_train, y_train, w_ini,iteraciones, alpha):\n",
        "  train=[]\n",
        "  for itera in range(iteraciones):\n",
        "    cont=0\n",
        "    train = train + [sum(loss(sigmoid(np.inner(xb_train,w_ini)),y_train))]\n",
        "    #print(loss(sigmoid(np.inner(xb_train,w_ini)),y_train))\n",
        "    for k in xb_train:\n",
        "      pesos = w_ini - alpha*gradiente(k,w_ini, y_train[cont])\n",
        "      w_ini = pesos\n",
        "      cont = cont+1\n",
        "  return train, w_ini"
      ],
      "execution_count": 0,
      "outputs": []
    },
    {
      "cell_type": "code",
      "metadata": {
        "id": "670uSaWfLTuV",
        "colab_type": "code",
        "outputId": "2b4be965-2dee-4c66-f0dc-1561759a79c1",
        "colab": {
          "base_uri": "https://localhost:8080/",
          "height": 568
        }
      },
      "source": [
        "valores, pesos = sig_training(x_train,y_train,np.random.rand(31), 50, 0.001)\n",
        "\n",
        "plt.figure(figsize = (8,8))\n",
        "plt.subplot(2,1,1)\n",
        "plt.plot(valores, 'gx')\n",
        "plt.legend(['alpha 0.001'])\n",
        "plt.xlabel('Epochs')\n",
        "plt.ylabel('Error')\n",
        "plt.title('Comportamiento total')\n",
        "\n",
        "plt.subplot(2,1,2)\n",
        "plt.plot(valores[3:],'gx')\n",
        "plt.legend(['alpha 0.001'])\n",
        "plt.xlabel('Epochs')\n",
        "plt.ylabel('Error')\n",
        "plt.title('Comportamiento más cercano')\n",
        "y_pred = (sigmoid(np.inner(x_test,pesos)) > 0.5)*1\n",
        "y_tr = (sigmoid(np.inner(x_train,pesos))>0.5)*1\n",
        "\n",
        "print(accuracy_score(y_pred, y_test))"
      ],
      "execution_count": 169,
      "outputs": [
        {
          "output_type": "stream",
          "text": [
            "/usr/local/lib/python3.6/dist-packages/ipykernel_launcher.py:5: RuntimeWarning: divide by zero encountered in log\n",
            "  \"\"\"\n"
          ],
          "name": "stderr"
        },
        {
          "output_type": "stream",
          "text": [
            "0.9649122807017544\n"
          ],
          "name": "stdout"
        },
        {
          "output_type": "display_data",
          "data": {
            "image/png": "[encoded data removed]",
            "text/plain": [
              "<Figure size 576x576 with 2 Axes>"
            ]
          },
          "metadata": {
            "tags": []
          }
        }
      ]
    }
  ]
}