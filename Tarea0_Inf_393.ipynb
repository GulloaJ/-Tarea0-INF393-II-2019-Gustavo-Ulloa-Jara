{
  "nbformat": 4,
  "nbformat_minor": 0,
  "metadata": {
    "colab": {
      "name": "Tarea0 Inf-393 ",
      "version": "0.3.2",
      "provenance": [],
      "collapsed_sections": []
    },
    "kernelspec": {
      "name": "python3",
      "display_name": "Python 3"
    },
    "accelerator": "GPU"
  },
  "cells": [
    {
      "cell_type": "code",
      "metadata": {
        "id": "RJsG-lsKmmXV",
        "colab_type": "code",
        "colab": {}
      },
      "source": [
        "from sklearn.datasets import load_breast_cancer\n",
        "import matplotlib.pyplot as plt\n",
        "import pandas as pd\n",
        "import numpy as np\n",
        "\n",
        "#data, output = load_breast_cancer(return_X_y = True)\n",
        "data = load_breast_cancer()\n",
        "\n",
        "x_train = data['data']\n",
        "y_train = data['target']"
      ],
      "execution_count": 0,
      "outputs": []
    },
    {
      "cell_type": "markdown",
      "metadata": {
        "id": "zpmAr2vQGLtY",
        "colab_type": "text"
      },
      "source": [
        "Luego de abrir el conjunto de datos, se procede a realizar un pequeño estudio de ellos y a tratarlos para un posterior uso de ellos en el entrenamiento de distintos modelos. \n",
        "\n",
        "Lo primero que hay que notar es que poseemos 569 datos a partir de 30 parámetros distintos. En base a ello, sería bueno buscar alguna manera de reducir dicha cantidad de parámetros con el objetivo de disminuir el 'ruido' que ellos pueden provocar a la máquina al momento de predecir. Pero como el objetivo es familiarizarse con los algoritmos, dejaremos dicho proceso para futuras tareas.\n",
        "\n",
        "Si bien lo anteriormente dicho se omitió, lo que sí vale la pena notar es que los datos de salida tienen una tendencia mayor a la salida 1 que la salida 0, por lo tanto, al momento de entrenar el modelo, es tentador pensar que él se va a 'familiarizar' más con las salidas 1. Esto será expuesto más adelante con el accuracy del modelo."
      ]
    },
    {
      "cell_type": "code",
      "metadata": {
        "id": "Aj46LLwuITu5",
        "colab_type": "code",
        "outputId": "33a4a645-3b1e-4911-d766-40b0c0f25f7d",
        "colab": {
          "base_uri": "https://localhost:8080/",
          "height": 35
        }
      },
      "source": [
        "x_train.shape"
      ],
      "execution_count": 100,
      "outputs": [
        {
          "output_type": "execute_result",
          "data": {
            "text/plain": [
              "(569, 30)"
            ]
          },
          "metadata": {
            "tags": []
          },
          "execution_count": 100
        }
      ]
    },
    {
      "cell_type": "code",
      "metadata": {
        "id": "2dmgK9wzGbEg",
        "colab_type": "code",
        "outputId": "b668cc27-9f24-487c-8a3f-df0910e0b3ae",
        "colab": {
          "base_uri": "https://localhost:8080/",
          "height": 287
        }
      },
      "source": [
        "plt.hist(y_train)\n",
        "plt.annotate('357' , xy = (0.9,357), xytext = (0.7, 300), arrowprops=dict(facecolor='black', shrink=0.005))\n",
        "plt.annotate('212', xy=(0.1, 212), xytext = (0.2, 212), arrowprops=dict(facecolor='black', shrink=0.05))"
      ],
      "execution_count": 101,
      "outputs": [
        {
          "output_type": "execute_result",
          "data": {
            "text/plain": [
              "Text(0.2, 212, '212')"
            ]
          },
          "metadata": {
            "tags": []
          },
          "execution_count": 101
        },
        {
          "output_type": "display_data",
          "data": {
            "image/png": "[encoded data removed]",
            "text/plain": [
              "<Figure size 432x288 with 1 Axes>"
            ]
          },
          "metadata": {
            "tags": []
          }
        }
      ]
    },
    {
      "cell_type": "code",
      "metadata": {
        "id": "9CnMkGlmQAMr",
        "colab_type": "code",
        "colab": {}
      },
      "source": [
        "from sklearn.preprocessing import StandardScaler\n",
        "from sklearn.metrics import accuracy_score\n",
        "from sklearn.model_selection import train_test_split\n",
        "\n",
        "dummy_list = []\n",
        "aux = list(x_train)\n",
        "for k in range(x_train.shape[0]):\n",
        "  aux1= list(aux[k])\n",
        "  dummy_list = dummy_list + [1] + aux1\n",
        "eso = np.array(dummy_list)\n",
        "x_train = eso.reshape(x_train.shape[0],31)\n",
        "\n",
        "x_train, x_test, y_train, y_test = train_test_split(x_train, y_train, test_size = 0.1, stratify = y_train)\n",
        "\n",
        "scaler = StandardScaler()\n",
        "scaler.fit(x_train)\n",
        "x_train = scaler.transform(x_train)\n",
        "x_test = scaler.transform(x_test)\n",
        "\n"
      ],
      "execution_count": 0,
      "outputs": []
    },
    {
      "cell_type": "markdown",
      "metadata": {
        "id": "qQNTazXyJAIZ",
        "colab_type": "text"
      },
      "source": [
        "Decidimos añadir el *bias* al vector para simplificar las operaciones matriciales.\n",
        "Una vez realizado lo anterior, procedemos a escalar los datos debido a que las unidades y medidas de ellos diferían demasiado, lo que puede alterar los resultados al momento de entrenar la máquina.\n",
        "\n",
        "Por último, se decidió **dividir** los datos para tener una mejor precisión al momento de medir el *accuracy* de los modelos, utilizando un 10% en datos de testeo.\n",
        "\n",
        "En lo que sigue, definimos la función *perceptrón* y, posterior a ello, aplicamos el algoritmo de entrenamiento a los datos escalados.\n",
        "\n",
        "\n",
        "Para cada modelo se eligió el vector de unos de tal manera que todos los modelos tengan el mismo punto de partida. La discución de cada modelos se hará al final de la tarea con el objetivo de poder compararlos."
      ]
    },
    {
      "cell_type": "markdown",
      "metadata": {
        "id": "bvQsdjDrJySP",
        "colab_type": "text"
      },
      "source": [
        "#PERCEPTRÓN"
      ]
    },
    {
      "cell_type": "code",
      "metadata": {
        "id": "0hmn3FQXo1Bz",
        "colab_type": "code",
        "colab": {}
      },
      "source": [
        "#Definiendo el perceptrón\n",
        "import time\n",
        "\n",
        "\n",
        "def perceptron(X,w):\n",
        "  aux = np.inner(X,w)\n",
        "  b= aux >0\n",
        "  y = b*1\n",
        "  return(y)\n"
      ],
      "execution_count": 0,
      "outputs": []
    },
    {
      "cell_type": "code",
      "metadata": {
        "id": "nmrmQHF9oku5",
        "colab_type": "code",
        "outputId": "01fb4b52-861b-4e9b-906e-f6f2437b3e76",
        "colab": {
          "base_uri": "https://localhost:8080/",
          "height": 549
        }
      },
      "source": [
        "#Entrenando el perceptrón\n",
        "\n",
        "w_ini = np.ones(31)\n",
        "alpha = 0.001\n",
        "iteraciones = 25\n",
        "error = []\n",
        "\n",
        "start1 = time.time()\n",
        "for i in range(iteraciones):\n",
        "  error = error + [sum(abs(perceptron(x_train, w_ini)-y_train))]\n",
        "  for k in range(x_train.shape[0]):\n",
        "    if (perceptron(x_train[k],w_ini) == 0) & (y_train[k]==1):\n",
        "      w_ini = w_ini + alpha*x_train[k]\n",
        "    if (perceptron(x_train[k],w_ini)== 1) & (y_train[k]==0):\n",
        "      w_ini = w_ini - alpha*x_train[k]\n",
        "pesos_perc = w_ini\n",
        "end1 = time.time()\n",
        "print('Tiempo de ejecución= ', end1 - start1)\n",
        "plt.figure(figsize = (8,8))\n",
        "plt.subplot(2,1,1)\n",
        "plt.plot(error, 'bx')\n",
        "plt.xlabel('epochs')\n",
        "plt.ylabel('Error')\n",
        "plt.title('Comportamiento del error')\n",
        "\n",
        "\n",
        "plt.subplot(2,1,2)\n",
        "plt.plot(error[3:], 'bx')\n",
        "plt.xlabel('epochs')\n",
        "plt.ylabel('Error')\n",
        "plt.title('Comportamiento del error aumentado')\n",
        "\n",
        "pred = perceptron(x_test, w_ini)\n",
        "dic = { 'pred': pred, 'real': y_test}\n",
        "\n",
        "np.nonzero(pred - y_test)\n",
        "\n",
        "y_pred = perceptron(x_test,w_ini)\n",
        "print(accuracy_score(y_pred,y_test))"
      ],
      "execution_count": 104,
      "outputs": [
        {
          "output_type": "stream",
          "text": [
            "Tiempo de ejecución=  0.20038270950317383\n",
            "0.9649122807017544\n"
          ],
          "name": "stdout"
        },
        {
          "output_type": "display_data",
          "data": {
            "image/png": "[encoded data removed]",
            "text/plain": [
              "<Figure size 576x576 with 2 Axes>"
            ]
          },
          "metadata": {
            "tags": []
          }
        }
      ]
    },
    {
      "cell_type": "markdown",
      "metadata": {
        "id": "TR9_uHeUJ0CT",
        "colab_type": "text"
      },
      "source": [
        "#FORGETRÓN"
      ]
    },
    {
      "cell_type": "code",
      "metadata": {
        "id": "rVJAg6NrvKHD",
        "colab_type": "code",
        "colab": {
          "base_uri": "https://localhost:8080/",
          "height": 35
        },
        "outputId": "f2f21c5c-877b-4d0e-daa7-f91a0f572323"
      },
      "source": [
        "11%10"
      ],
      "execution_count": 105,
      "outputs": [
        {
          "output_type": "execute_result",
          "data": {
            "text/plain": [
              "1"
            ]
          },
          "metadata": {
            "tags": []
          },
          "execution_count": 105
        }
      ]
    },
    {
      "cell_type": "code",
      "metadata": {
        "id": "yA0t6f5aswSu",
        "colab_type": "code",
        "colab": {}
      },
      "source": [
        "#Forgetron\n",
        "y_dummy = (y_train ==0)*1\n",
        "y_forgetron = y_train - y_dummy\n",
        "phi = 0.1\n",
        "budget = 10\n",
        "I = set()\n",
        "sigma = np.zeros(x_train.shape[0]+1)\n",
        "def forgetron(x,y):\n",
        "  kernel = np.inner(x_train,x)\n",
        "  f=0\n",
        "  B=10\n",
        "  sigma[0]=phi\n",
        "  for k in range(x_train.shape[0]+1):\n",
        "    if ((perceptron(x_train[k-1],np.ones(31)) == 1) & (y_train[k-1]==1)) | ((perceptron(x_train[k-1],np.ones(31))==0) & (y_train[k-1]==0)):\n",
        "      continue  \n",
        "    else:\n",
        "      I.add(k)\n",
        "      sigma[k] = sigma[k-1]*phi\n",
        "      if len(I)==B:\n",
        "        I.remove(min(I))\n",
        "  for i in I:\n",
        "    f = sigma[i]*y[i]*np.inner(x_train[i],x[i]) + f\n",
        "  return f\n",
        "  \n",
        "\n",
        "#forgetron(x_train,np.ones(31),y_train)"
      ],
      "execution_count": 0,
      "outputs": []
    },
    {
      "cell_type": "markdown",
      "metadata": {
        "id": "MD5rMcMFItJb",
        "colab_type": "text"
      },
      "source": [
        "#Parte continua"
      ]
    },
    {
      "cell_type": "code",
      "metadata": {
        "id": "NzMi9RPKbeUt",
        "colab_type": "code",
        "colab": {}
      },
      "source": [
        "def sigmoid(x):\n",
        "  return(1/(1+np.exp(-x)))\n",
        "\n",
        "def loss(x,y):\n",
        "  return(-y*np.log(x) - (1-y)*np.log(1-x))\n",
        "\n",
        "def gradiente(x,w,y):\n",
        "  return ((sigmoid(np.inner(x,w))-y)*x)"
      ],
      "execution_count": 0,
      "outputs": []
    },
    {
      "cell_type": "code",
      "metadata": {
        "id": "0qCD8ynII0hj",
        "colab_type": "code",
        "colab": {}
      },
      "source": [
        "#el objetvio es minimizar la función loss, por lo tanto para entrenar el modelo debemos ir actualizando los pesos.\n",
        "import time\n",
        "\n",
        "alpha = 0.001\n",
        "w_ini = np.ones(31)\n",
        "cont =0\n",
        "\n",
        "iteraciones = 25\n",
        "\n",
        "def sig_training(xb_train, y_train, w_ini,iteraciones, alpha):\n",
        "  start = time.time()\n",
        "  train=[]\n",
        "  for itera in range(iteraciones):\n",
        "    cont=0\n",
        "    train = train + [sum(loss(sigmoid(np.inner(xb_train,w_ini)),y_train))]\n",
        "    #print(loss(sigmoid(np.inner(xb_train,w_ini)),y_train))\n",
        "    for k in xb_train:\n",
        "      pesos = w_ini - alpha*gradiente(k,w_ini, y_train[cont])\n",
        "      w_ini = pesos\n",
        "      cont = cont+1\n",
        "  end = time.time()\n",
        "  print('Tiempo de ejecución= ', end - start)\n",
        "  return train, w_ini"
      ],
      "execution_count": 0,
      "outputs": []
    },
    {
      "cell_type": "code",
      "metadata": {
        "id": "670uSaWfLTuV",
        "colab_type": "code",
        "colab": {
          "base_uri": "https://localhost:8080/",
          "height": 586
        },
        "outputId": "6c17e34f-f4d5-4cc7-cf5d-5d1525c54956"
      },
      "source": [
        "valores, pesos = sig_training(x_train,y_train,np.random.rand(31), 25, 0.001)\n",
        "\n",
        "plt.figure(figsize = (8,8))\n",
        "plt.subplot(2,1,1)\n",
        "plt.plot(valores, 'gx')\n",
        "plt.legend(['alpha 0.001'])\n",
        "plt.xlabel('Epochs')\n",
        "plt.ylabel('Error')\n",
        "plt.title('Comportamiento total')\n",
        "\n",
        "plt.subplot(2,1,2)\n",
        "plt.plot(valores[3:],'gx')\n",
        "plt.legend(['alpha 0.001'])\n",
        "plt.xlabel('Epochs')\n",
        "plt.ylabel('Error')\n",
        "plt.title('Comportamiento más cercano')\n",
        "y_pred = (sigmoid(np.inner(x_test,pesos)) > 0.5)*1\n",
        "y_tr = (sigmoid(np.inner(x_train,pesos))>0.5)*1\n",
        "\n",
        "print(accuracy_score(y_pred, y_test))"
      ],
      "execution_count": 109,
      "outputs": [
        {
          "output_type": "stream",
          "text": [
            "/usr/local/lib/python3.6/dist-packages/ipykernel_launcher.py:5: RuntimeWarning: divide by zero encountered in log\n",
            "  \"\"\"\n"
          ],
          "name": "stderr"
        },
        {
          "output_type": "stream",
          "text": [
            "Tiempo de ejecución=  0.16371726989746094\n",
            "0.9824561403508771\n"
          ],
          "name": "stdout"
        },
        {
          "output_type": "display_data",
          "data": {
            "image/png": "[encoded data removed]",
            "text/plain": [
              "<Figure size 576x576 with 2 Axes>"
            ]
          },
          "metadata": {
            "tags": []
          }
        }
      ]
    },
    {
      "cell_type": "markdown",
      "metadata": {
        "id": "8rscUwsnQ_al",
        "colab_type": "text"
      },
      "source": [
        "#Comparación de resultados\n",
        "\n",
        "Como se puede apreciar en los códigos anteriores, se entrenó cada modelo con 25 epochs. Es claro, por cómo se eligieron las funciones loss, que la del modelo continuo tendría más problemas al principio. Pero rápidamente, *binary cross entropy* llegó cerca de su mínimo sobrepasando en un momento a la del modelo de perceptrón. Esto es de esperar ya que binary cross entropy fue minimizada a partir de un gradiente exponencial, por lo tanto 'converge' más rápido que la del modelo lineal. "
      ]
    },
    {
      "cell_type": "code",
      "metadata": {
        "id": "XSqKcr4uRCGt",
        "colab_type": "code",
        "colab": {
          "base_uri": "https://localhost:8080/",
          "height": 517
        },
        "outputId": "4b347a1e-7e29-4770-8bb5-3fd8d86adc7e"
      },
      "source": [
        "plt.figure(figsize = (8,8))\n",
        "plt.subplot(2,1,1)\n",
        "plt.plot(error, 'x')\n",
        "plt.plot(valores, 'o')\n",
        "plt.legend(['Perceptrón', 'SGD'])\n",
        "plt.title('Comparación de las funciones loss para los datos de entrenamiento')\n",
        "\n",
        "\n",
        "plt.subplot(2,1,2)\n",
        "plt.plot(error[4:], 'x')\n",
        "plt.plot(valores[4:], 'o')\n",
        "plt.legend(['Perceptron', 'SGD'])\n",
        "plt.title('Comparación de los últimos datos de las pérdida para una mejor apreciación')"
      ],
      "execution_count": 110,
      "outputs": [
        {
          "output_type": "execute_result",
          "data": {
            "text/plain": [
              "Text(0.5, 1.0, 'Comparación de los últimos datos de las pérdida para una mejor apreciación')"
            ]
          },
          "metadata": {
            "tags": []
          },
          "execution_count": 110
        },
        {
          "output_type": "display_data",
          "data": {
            "image/png": "[encoded data removed]",
            "text/plain": [
              "<Figure size 576x576 with 2 Axes>"
            ]
          },
          "metadata": {
            "tags": []
          }
        }
      ]
    },
    {
      "cell_type": "markdown",
      "metadata": {
        "id": "3cxdxz_FXcRt",
        "colab_type": "text"
      },
      "source": [
        "Haciendo hincapié al desempeño de los modelos, se puede apreciar que ambos modelos se comportan de manera similar al momento de predecir. Donde el modelo SGD logró acertar a todos los elementos que tenían salida 1 (al principio se mencionó que los datos tenían una tendencia a esta salida), mientras que el modelo perceptrón falló en algunos. Pero en general lo que más vale destacar es el punto anterior y es de lo rápido que se logra entrenar el modelo continuo utilizando SGD. \n",
        "\n",
        "En general es dificil hacer una relación a partir de las funciones de pérdida, ya que por un lado estamos ultilizando la función indicatriz para calcular los aciertos del perceptrón, mientras que en otro caso estamos utilizando un modelo continuo que se basa en una penalización más suave. Por lo tanto los cambios no son tan bruscos y los errores marcados difieren en interpretación.\n",
        "\n",
        "Es por eso que estudió el f1 score, más sus respectivos *recall* y *precision* con el objetivo de ver qué modelo desempeñó de mejor manera los datos.\n"
      ]
    },
    {
      "cell_type": "code",
      "metadata": {
        "id": "ogFI5bSYRvq7",
        "colab_type": "code",
        "colab": {
          "base_uri": "https://localhost:8080/",
          "height": 344
        },
        "outputId": "e5c53a89-ce9f-4403-8bec-117fb6ab8151"
      },
      "source": [
        "from sklearn.metrics import precision_recall_fscore_support\n",
        "from sklearn.metrics import classification_report\n",
        "\n",
        "y_perc_pred = perceptron(x_test,pesos_perc)\n",
        "y_sgd_pred = (sigmoid(np.inner(x_test,pesos))>0.5)*1\n",
        "\n",
        "\n",
        "print(classification_report(y_perc_pred, y_test))\n",
        "print(classification_report(y_sgd_pred, y_test))"
      ],
      "execution_count": 111,
      "outputs": [
        {
          "output_type": "stream",
          "text": [
            "              precision    recall  f1-score   support\n",
            "\n",
            "           0       0.95      0.95      0.95        21\n",
            "           1       0.97      0.97      0.97        36\n",
            "\n",
            "    accuracy                           0.96        57\n",
            "   macro avg       0.96      0.96      0.96        57\n",
            "weighted avg       0.96      0.96      0.96        57\n",
            "\n",
            "              precision    recall  f1-score   support\n",
            "\n",
            "           0       0.95      1.00      0.98        20\n",
            "           1       1.00      0.97      0.99        37\n",
            "\n",
            "    accuracy                           0.98        57\n",
            "   macro avg       0.98      0.99      0.98        57\n",
            "weighted avg       0.98      0.98      0.98        57\n",
            "\n"
          ],
          "name": "stdout"
        }
      ]
    },
    {
      "cell_type": "markdown",
      "metadata": {
        "id": "4B0aud-L4x5R",
        "colab_type": "text"
      },
      "source": [
        "En lo anterior, es posible ver que el modelo SGD, a la larga, tuvo un mejor desempeño del modelo llegando a un accuracy del 98%., mientras que el modelo del perceptrón logró un 96%.\n",
        "\n",
        "En general ambos modelos supiero desempeñarse bien, mas es importante destacar que, en base al gráfico que  compara las funciones de pérdida, el algoritmo SGD alcanza 'casi' su mínimo en la tercera epoch, por lo tanto es un algoritmo que entrena más rápido que el mostrado por el perceptrón. Más aún, logramos ver que por las tablas anteriores, que el algoritmo SGD superó en todos los aspectos al del perceptrón."
      ]
    }
  ]
}